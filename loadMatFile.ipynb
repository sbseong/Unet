{
 "cells": [
  {
   "cell_type": "code",
   "execution_count": 9,
   "metadata": {},
   "outputs": [
    {
     "name": "stdout",
     "output_type": "stream",
     "text": [
      "/home/monet4lx/pythonwork/unet\r\n"
     ]
    },
    {
     "ename": "ModuleNotFoundError",
     "evalue": "No module named 'tensorflow'",
     "output_type": "error",
     "traceback": [
      "\u001b[0;31m---------------------------------------------------------------------------\u001b[0m",
      "\u001b[0;31mModuleNotFoundError\u001b[0m                       Traceback (most recent call last)",
      "\u001b[0;32m<ipython-input-9-752e373aa62e>\u001b[0m in \u001b[0;36m<module>\u001b[0;34m\u001b[0m\n\u001b[1;32m      1\u001b[0m \u001b[0mget_ipython\u001b[0m\u001b[0;34m(\u001b[0m\u001b[0;34m)\u001b[0m\u001b[0;34m.\u001b[0m\u001b[0msystem\u001b[0m\u001b[0;34m(\u001b[0m\u001b[0;34m'pwd'\u001b[0m\u001b[0;34m)\u001b[0m\u001b[0;34m\u001b[0m\u001b[0;34m\u001b[0m\u001b[0m\n\u001b[0;32m----> 2\u001b[0;31m \u001b[0;32mimport\u001b[0m \u001b[0mtensorflow\u001b[0m \u001b[0;32mas\u001b[0m \u001b[0mtf\u001b[0m\u001b[0;34m\u001b[0m\u001b[0;34m\u001b[0m\u001b[0m\n\u001b[0m",
      "\u001b[0;31mModuleNotFoundError\u001b[0m: No module named 'tensorflow'"
     ]
    }
   ],
   "source": [
    "!pwd\n",
    "import tensorflow as tf"
   ]
  },
  {
   "cell_type": "code",
   "execution_count": 8,
   "metadata": {},
   "outputs": [
    {
     "ename": "NameError",
     "evalue": "name 'mat' is not defined",
     "output_type": "error",
     "traceback": [
      "\u001b[0;31m---------------------------------------------------------------------------\u001b[0m",
      "\u001b[0;31mNameError\u001b[0m                                 Traceback (most recent call last)",
      "\u001b[0;32mcell_name\u001b[0m in \u001b[0;36masync-def-wrapper\u001b[0;34m()\u001b[0m\n",
      "\u001b[0;31mNameError\u001b[0m: name 'mat' is not defined"
     ]
    }
   ],
   "source": [
    "#from model import *\n",
    "#from data_ca import *\n",
    "from scipy.io import loadmat\n",
    "import os\n",
    "import sys\n",
    "\n",
    "def generate_arrays_from_file(path):\n",
    "    mat = []\n",
    "    for file in os.listdir( path ):\n",
    "        mats = []\n",
    "        x = loadmat(path+file)\n",
    "        x1 = x['img_GCaMP6s']\n",
    "        x2 = x['img_mCherry']\n",
    "        mats.append(x1)\n",
    "        mats.append(x2)\n",
    "        mat.append(mats)\n",
    "return mat"
   ]
  },
  {
   "cell_type": "code",
   "execution_count": null,
   "metadata": {},
   "outputs": [],
   "source": [
    "mat = generate_arrays_from_file('data/CaSD_segmentation/data/')\n",
    "print(mat)\n",
    "len(mat)"
   ]
  },
  {
   "cell_type": "code",
   "execution_count": 23,
   "metadata": {},
   "outputs": [
    {
     "name": "stdout",
     "output_type": "stream",
     "text": [
      "createUnet.m\t\t\t preinstall.txt\r\n",
      "data\t\t\t\t __pycache__\r\n",
      "data_ca.py\t\t\t README.md\r\n",
      "dataPrepare_ca.ipynb\t\t sbs_unet_train_v1\r\n",
      "dataPrepare_calcium.py\t\t sbs_unet_train_v2\r\n",
      "dataPrepare.ipynb\t\t SemanticSeg_unet.mlx\r\n",
      "data.py\t\t\t\t train_data3.mat\r\n",
      "downloadHamlinBeachMSIData.m\t train_data.mat\r\n",
      "downloadTrainedUnet.m\t\t train_labels1.png\r\n",
      "img\t\t\t\t trainUnet.ipynb\r\n",
      "main_ca2.py\t\t\t TrainUnet.m\r\n",
      "main_ca_multi.py\t\t TrainUnet.m~\r\n",
      "main_ca.py\t\t\t unet_calcium_190311_aug.hdf5\r\n",
      "main_ca.py~\t\t\t unet_calcium_190311.hdf5\r\n",
      "main.py\t\t\t\t unet_calcium_190311_retrain.hdf5\r\n",
      "matReader.m\t\t\t unet_calcium.hdf5\r\n",
      "model2.py\t\t\t unet_membrane.hdf5\r\n",
      "model.py\t\t\t Untitled.ipynb\r\n",
      "PixelLabelImagePatchDatastore.m\r\n"
     ]
    }
   ],
   "source": [
    "!ls"
   ]
  },
  {
   "cell_type": "code",
   "execution_count": null,
   "metadata": {},
   "outputs": [],
   "source": []
  }
 ],
 "metadata": {
  "kernelspec": {
   "display_name": "Python 3",
   "language": "python",
   "name": "python3"
  },
  "language_info": {
   "codemirror_mode": {
    "name": "ipython",
    "version": 3
   },
   "file_extension": ".py",
   "mimetype": "text/x-python",
   "name": "python",
   "nbconvert_exporter": "python",
   "pygments_lexer": "ipython3",
   "version": "3.7.1"
  }
 },
 "nbformat": 4,
 "nbformat_minor": 2
}
